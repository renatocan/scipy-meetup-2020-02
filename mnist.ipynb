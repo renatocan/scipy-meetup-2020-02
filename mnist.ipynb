{
 "cells": [
  {
   "cell_type": "code",
   "execution_count": 1,
   "metadata": {},
   "outputs": [],
   "source": [
    "import torch\n",
    "from torch import nn, optim\n",
    "\n",
    "import torchvision\n",
    "import torchvision.transforms as transforms\n",
    "import math\n",
    "import matplotlib.pyplot as plt"
   ]
  },
  {
   "cell_type": "code",
   "execution_count": 2,
   "metadata": {},
   "outputs": [
    {
     "data": {
      "text/plain": [
       "<torch._C.Generator at 0x7f34ba755a30>"
      ]
     },
     "execution_count": 2,
     "metadata": {},
     "output_type": "execute_result"
    }
   ],
   "source": [
    "torch.manual_seed(111)"
   ]
  },
  {
   "cell_type": "code",
   "execution_count": 3,
   "metadata": {},
   "outputs": [],
   "source": [
    "device = ''\n",
    "if torch.cuda.is_available():\n",
    "    device = torch.device('cuda')\n",
    "else:\n",
    "    device = torch.device('cpu')\n"
   ]
  },
  {
   "cell_type": "code",
   "execution_count": 4,
   "metadata": {},
   "outputs": [],
   "source": [
    "transform = transforms.Compose(\n",
    "    [transforms.ToTensor(),\n",
    "     transforms.Normalize((0.5,), (0.5,))])"
   ]
  },
  {
   "cell_type": "code",
   "execution_count": 5,
   "metadata": {},
   "outputs": [],
   "source": [
    "train_set = torchvision.datasets.MNIST(root='.',\n",
    "                                      train=True,\n",
    "                                      download=True,\n",
    "                                      transform=transform)\n"
   ]
  },
  {
   "cell_type": "code",
   "execution_count": 6,
   "metadata": {},
   "outputs": [],
   "source": [
    "batch_size = 32\n",
    "train_loader = torch.utils.data.DataLoader(train_set,\n",
    "                                           batch_size=batch_size,\n",
    "                                           shuffle=True)"
   ]
  },
  {
   "cell_type": "code",
   "execution_count": 7,
   "metadata": {},
   "outputs": [
    {
     "data": {
      "image/png": "[encoded data removed]",
      "text/plain": [
       "<Figure size 432x288 with 16 Axes>"
      ]
     },
     "metadata": {},
     "output_type": "display_data"
    }
   ],
   "source": [
    "real_samples, mnist_labels = next(iter(train_loader))\n",
    "for i in range(16):\n",
    "    ax = plt.subplot(4, 4, i+1)\n",
    "    plt.imshow(real_samples[i].reshape(28, 28), cmap='gray_r')\n",
    "    plt.xticks([])\n",
    "    plt.yticks([])"
   ]
  },
  {
   "cell_type": "code",
   "execution_count": 8,
   "metadata": {},
   "outputs": [],
   "source": [
    "class Discriminator(nn.Module):\n",
    "    def __init__(self):\n",
    "        super().__init__()\n",
    "        self.model = nn.Sequential(\n",
    "            nn.Linear(784, 1024),\n",
    "            nn.ReLU(),\n",
    "            nn.Dropout(0.3),\n",
    "            nn.Linear(1024, 512),\n",
    "            nn.ReLU(),\n",
    "            nn.Dropout(0.3),\n",
    "            nn.Linear(512, 256),\n",
    "            nn.ReLU(),\n",
    "            nn.Dropout(0.3),\n",
    "            nn.Linear(256, 1),\n",
    "            nn.Sigmoid()\n",
    "        )\n",
    "\n",
    "    def forward(self, x):\n",
    "        x = x.view(x.size(0), 784)\n",
    "        output = self.model(x)\n",
    "        return output"
   ]
  },
  {
   "cell_type": "code",
   "execution_count": 9,
   "metadata": {},
   "outputs": [],
   "source": [
    "discriminator = Discriminator().to(device=device)"
   ]
  },
  {
   "cell_type": "code",
   "execution_count": 10,
   "metadata": {},
   "outputs": [],
   "source": [
    "class Generator(nn.Module):\n",
    "    def __init__(self):\n",
    "        super().__init__()\n",
    "        self.model = nn.Sequential(\n",
    "            nn.Linear(100, 256),\n",
    "            nn.ReLU(),\n",
    "            nn.Linear(256, 512),\n",
    "            nn.ReLU(),\n",
    "            nn.Linear(512, 1024),\n",
    "            nn.ReLU(),\n",
    "            nn.Linear(1024, 784),\n",
    "            nn.Tanh()\n",
    "        )\n",
    "\n",
    "    def forward(self, x):        \n",
    "        output = self.model(x)\n",
    "        output = output.view(x.size(0), 1, 28, 28)\n",
    "        return output"
   ]
  },
  {
   "cell_type": "code",
   "execution_count": 11,
   "metadata": {},
   "outputs": [],
   "source": [
    "generator = Generator().to(device=device)"
   ]
  },
  {
   "cell_type": "code",
   "execution_count": 12,
   "metadata": {},
   "outputs": [],
   "source": [
    "lr = 0.0001\n",
    "num_epochs = 50\n",
    "loss_function = nn.BCELoss()\n",
    "\n",
    "optimizer_discriminator = torch.optim.Adam(discriminator.parameters(), lr=lr)\n",
    "optimizer_generator = torch.optim.Adam(generator.parameters(), lr=lr)"
   ]
  },
  {
   "cell_type": "code",
   "execution_count": 13,
   "metadata": {},
   "outputs": [
    {
     "name": "stdout",
     "output_type": "stream",
     "text": [
      "Epoch: 0 Loss D.: 0.5441970825195312\n",
      "Epoch: 0 Loss G.: 0.5325045585632324\n",
      "Epoch: 1 Loss D.: 0.02414158172905445\n",
      "Epoch: 1 Loss G.: 4.749420642852783\n",
      "Epoch: 2 Loss D.: 0.11845698207616806\n",
      "Epoch: 2 Loss G.: 5.735073089599609\n",
      "Epoch: 3 Loss D.: 0.021330807358026505\n",
      "Epoch: 3 Loss G.: 5.022294998168945\n",
      "Epoch: 4 Loss D.: 0.022398648783564568\n",
      "Epoch: 4 Loss G.: 3.796224355697632\n",
      "Epoch: 5 Loss D.: 0.01931034028530121\n",
      "Epoch: 5 Loss G.: 4.96612548828125\n",
      "Epoch: 6 Loss D.: 0.132989764213562\n",
      "Epoch: 6 Loss G.: 3.6580913066864014\n",
      "Epoch: 7 Loss D.: 0.017890628427267075\n",
      "Epoch: 7 Loss G.: 3.524057388305664\n",
      "Epoch: 8 Loss D.: 0.15814870595932007\n",
      "Epoch: 8 Loss G.: 5.278743743896484\n",
      "Epoch: 9 Loss D.: 0.19228102266788483\n",
      "Epoch: 9 Loss G.: 4.670767784118652\n",
      "Epoch: 10 Loss D.: 0.1771140694618225\n",
      "Epoch: 10 Loss G.: 2.5939435958862305\n",
      "Epoch: 11 Loss D.: 0.3117023706436157\n",
      "Epoch: 11 Loss G.: 2.0425713062286377\n",
      "Epoch: 12 Loss D.: 0.26347529888153076\n",
      "Epoch: 12 Loss G.: 2.228915214538574\n",
      "Epoch: 13 Loss D.: 0.2400243580341339\n",
      "Epoch: 13 Loss G.: 2.268881320953369\n",
      "Epoch: 14 Loss D.: 0.39614057540893555\n",
      "Epoch: 14 Loss G.: 2.0191946029663086\n",
      "Epoch: 15 Loss D.: 0.36789563298225403\n",
      "Epoch: 15 Loss G.: 1.6667368412017822\n",
      "Epoch: 16 Loss D.: 0.3855496644973755\n",
      "Epoch: 16 Loss G.: 1.9572503566741943\n",
      "Epoch: 17 Loss D.: 0.35768601298332214\n",
      "Epoch: 17 Loss G.: 1.5058468580245972\n",
      "Epoch: 18 Loss D.: 0.34837982058525085\n",
      "Epoch: 18 Loss G.: 1.981563925743103\n",
      "Epoch: 19 Loss D.: 0.22829367220401764\n",
      "Epoch: 19 Loss G.: 1.5464409589767456\n",
      "Epoch: 20 Loss D.: 0.48649927973747253\n",
      "Epoch: 20 Loss G.: 1.6668611764907837\n",
      "Epoch: 21 Loss D.: 0.38504713773727417\n",
      "Epoch: 21 Loss G.: 1.8002796173095703\n",
      "Epoch: 22 Loss D.: 0.44899824261665344\n",
      "Epoch: 22 Loss G.: 1.5752729177474976\n",
      "Epoch: 23 Loss D.: 0.38975557684898376\n",
      "Epoch: 23 Loss G.: 1.5597517490386963\n",
      "Epoch: 24 Loss D.: 0.4798518419265747\n",
      "Epoch: 24 Loss G.: 1.6641088724136353\n",
      "Epoch: 25 Loss D.: 0.371210515499115\n",
      "Epoch: 25 Loss G.: 1.2079763412475586\n",
      "Epoch: 26 Loss D.: 0.5019561052322388\n",
      "Epoch: 26 Loss G.: 1.1006247997283936\n",
      "Epoch: 27 Loss D.: 0.49322736263275146\n",
      "Epoch: 27 Loss G.: 1.2997236251831055\n",
      "Epoch: 28 Loss D.: 0.3831057846546173\n",
      "Epoch: 28 Loss G.: 1.3647572994232178\n",
      "Epoch: 29 Loss D.: 0.3655076324939728\n",
      "Epoch: 29 Loss G.: 1.3778337240219116\n",
      "Epoch: 30 Loss D.: 0.5426390171051025\n",
      "Epoch: 30 Loss G.: 1.0299265384674072\n",
      "Epoch: 31 Loss D.: 0.44740667939186096\n",
      "Epoch: 31 Loss G.: 1.3104077577590942\n",
      "Epoch: 32 Loss D.: 0.4440173804759979\n",
      "Epoch: 32 Loss G.: 1.2513526678085327\n",
      "Epoch: 33 Loss D.: 0.5266032218933105\n",
      "Epoch: 33 Loss G.: 1.4874008893966675\n",
      "Epoch: 34 Loss D.: 0.5964666604995728\n",
      "Epoch: 34 Loss G.: 1.4404715299606323\n",
      "Epoch: 35 Loss D.: 0.431165874004364\n",
      "Epoch: 35 Loss G.: 1.5241258144378662\n",
      "Epoch: 36 Loss D.: 0.4556237459182739\n",
      "Epoch: 36 Loss G.: 1.1110153198242188\n",
      "Epoch: 37 Loss D.: 0.4405478835105896\n",
      "Epoch: 37 Loss G.: 1.2532435655593872\n",
      "Epoch: 38 Loss D.: 0.4840294420719147\n",
      "Epoch: 38 Loss G.: 1.2373149394989014\n",
      "Epoch: 39 Loss D.: 0.45448726415634155\n",
      "Epoch: 39 Loss G.: 1.121254324913025\n",
      "Epoch: 40 Loss D.: 0.5193507671356201\n",
      "Epoch: 40 Loss G.: 1.3408571481704712\n",
      "Epoch: 41 Loss D.: 0.5065213441848755\n",
      "Epoch: 41 Loss G.: 1.4138089418411255\n",
      "Epoch: 42 Loss D.: 0.57492595911026\n",
      "Epoch: 42 Loss G.: 1.3650586605072021\n",
      "Epoch: 43 Loss D.: 0.4590498208999634\n",
      "Epoch: 43 Loss G.: 1.3223540782928467\n",
      "Epoch: 44 Loss D.: 0.5308703780174255\n",
      "Epoch: 44 Loss G.: 1.1176996231079102\n",
      "Epoch: 45 Loss D.: 0.5794615745544434\n",
      "Epoch: 45 Loss G.: 1.12045419216156\n",
      "Epoch: 46 Loss D.: 0.5067179203033447\n",
      "Epoch: 46 Loss G.: 1.1718848943710327\n",
      "Epoch: 47 Loss D.: 0.5040732026100159\n",
      "Epoch: 47 Loss G.: 1.2070337533950806\n",
      "Epoch: 48 Loss D.: 0.5107042789459229\n",
      "Epoch: 48 Loss G.: 1.4010276794433594\n",
      "Epoch: 49 Loss D.: 0.4769575595855713\n",
      "Epoch: 49 Loss G.: 1.2751226425170898\n"
     ]
    }
   ],
   "source": [
    "for epoch in range(num_epochs):\n",
    "    for n, (real_samples, mnist_labels) in enumerate(train_loader):\n",
    "        # Data for training the discriminator\n",
    "        real_samples = real_samples.to(device=device)\n",
    "        real_samples_labels = torch.ones((batch_size, 1)).to(device=device)\n",
    "        latent_space_samples = torch.randn((batch_size, 100)).to(device=device)\n",
    "        generated_samples = generator(latent_space_samples)\n",
    "        generated_samples_labels = torch.zeros(\n",
    "            (batch_size, 1)).to(device=device)\n",
    "        all_samples = torch.cat((real_samples, generated_samples))\n",
    "        all_samples_labels = torch.cat(\n",
    "            (real_samples_labels, generated_samples_labels))\n",
    "\n",
    "        # Training the discriminator\n",
    "        discriminator.zero_grad()\n",
    "        output_discriminator = discriminator(all_samples)\n",
    "        loss_discriminator = loss_function(\n",
    "            output_discriminator, all_samples_labels)\n",
    "        loss_discriminator.backward()\n",
    "        optimizer_discriminator.step()\n",
    "        \n",
    "        # Data for training the generator\n",
    "        latent_space_samples = torch.randn((batch_size, 100)).to(device=device)\n",
    "\n",
    "        # Training the generator        \n",
    "        generator.zero_grad()\n",
    "        generated_samples = generator(latent_space_samples)\n",
    "        output_discriminator_generated = discriminator(generated_samples)\n",
    "        loss_generator = loss_function(\n",
    "            output_discriminator_generated, real_samples_labels)\n",
    "        loss_generator.backward()\n",
    "        optimizer_generator.step()\n",
    "\n",
    "        # Show loss\n",
    "        if n == batch_size - 1:\n",
    "            print(f\"Epoch: {epoch} Loss D.: {loss_discriminator}\")\n",
    "            print(f\"Epoch: {epoch} Loss G.: {loss_generator}\")"
   ]
  },
  {
   "cell_type": "code",
   "execution_count": 14,
   "metadata": {},
   "outputs": [
    {
     "data": {
      "image/png": "[encoded data removed]",
      "text/plain": [
       "<Figure size 432x288 with 16 Axes>"
      ]
     },
     "metadata": {},
     "output_type": "display_data"
    }
   ],
   "source": [
    "latent_space_samples = torch.randn(batch_size, 100).to(device=device)\n",
    "\n",
    "generated_samples = generator(latent_space_samples)\n",
    "generated_samples = generated_samples.cpu().detach()\n",
    "\n",
    "for i in range(16):\n",
    "    ax = plt.subplot(4, 4, i+1)\n",
    "    plt.imshow(generated_samples[i].reshape(28, 28), cmap='gray_r')\n",
    "    plt.xticks([])\n",
    "    plt.yticks([])"
   ]
  },
  {
   "cell_type": "code",
   "execution_count": 15,
   "metadata": {},
   "outputs": [],
   "source": [
    "torch.save(generator.state_dict(), 'generator.pt')\n",
    "torch.save(discriminator.state_dict(), 'discriminator.pt')"
   ]
  }
 ],
 "metadata": {
  "kernelspec": {
   "display_name": "gan",
   "language": "python",
   "name": "gan"
  },
  "language_info": {
   "codemirror_mode": {
    "name": "ipython",
    "version": 3
   },
   "file_extension": ".py",
   "mimetype": "text/x-python",
   "name": "python",
   "nbconvert_exporter": "python",
   "pygments_lexer": "ipython3",
   "version": "3.7.6"
  }
 },
 "nbformat": 4,
 "nbformat_minor": 4
}
