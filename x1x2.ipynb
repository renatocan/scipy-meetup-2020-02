{
 "cells": [
  {
   "cell_type": "code",
   "execution_count": 1,
   "metadata": {},
   "outputs": [],
   "source": [
    "import torch\n",
    "from torch import nn\n",
    "\n",
    "import math\n",
    "import matplotlib.pyplot as plt"
   ]
  },
  {
   "cell_type": "code",
   "execution_count": 2,
   "metadata": {},
   "outputs": [
    {
     "data": {
      "text/plain": [
       "<torch._C.Generator at 0x7fd164253030>"
      ]
     },
     "execution_count": 2,
     "metadata": {},
     "output_type": "execute_result"
    }
   ],
   "source": [
    "torch.manual_seed(111)"
   ]
  },
  {
   "cell_type": "code",
   "execution_count": 3,
   "metadata": {},
   "outputs": [],
   "source": [
    "train_data_length = 1024\n",
    "train_data = torch.zeros((train_data_length,2))\n",
    "train_data[:,0] = 2*math.pi*torch.rand(train_data_length)\n",
    "train_data[:,1] = torch.sin(train_data[:,0])\n",
    "train_labels = torch.zeros(train_data_length)\n",
    "trainset = [(train_data[i], train_labels[i]) for i in range(train_data_length)]"
   ]
  },
  {
   "cell_type": "code",
   "execution_count": 4,
   "metadata": {},
   "outputs": [],
   "source": [
    "batch_size = 32\n",
    "train_loader = torch.utils.data.DataLoader(trainset,\n",
    "                                           batch_size=batch_size,\n",
    "                                           shuffle=True)"
   ]
  },
  {
   "cell_type": "code",
   "execution_count": 5,
   "metadata": {},
   "outputs": [],
   "source": [
    "class Discriminator(nn.Module):\n",
    "    def __init__(self):\n",
    "        super().__init__()\n",
    "        self.model = nn.Sequential(\n",
    "            nn.Linear(2, 256),\n",
    "            nn.ReLU(),\n",
    "            nn.Dropout(0.3),\n",
    "            nn.Linear(256, 128),\n",
    "            nn.ReLU(),\n",
    "            nn.Dropout(0.3),\n",
    "            nn.Linear(128, 64),\n",
    "            nn.ReLU(),\n",
    "            nn.Dropout(0.3),\n",
    "            nn.Linear(64, 1),\n",
    "            nn.Sigmoid()\n",
    "        )\n",
    "\n",
    "    def forward(self, x):\n",
    "        output = self.model(x)\n",
    "        return output"
   ]
  },
  {
   "cell_type": "code",
   "execution_count": 6,
   "metadata": {},
   "outputs": [],
   "source": [
    "discriminator = Discriminator()"
   ]
  },
  {
   "cell_type": "code",
   "execution_count": 7,
   "metadata": {},
   "outputs": [],
   "source": [
    "class Generator(nn.Module):\n",
    "    def __init__(self):\n",
    "        super().__init__()\n",
    "        self.model = nn.Sequential(\n",
    "            nn.Linear(2, 16),\n",
    "            nn.ReLU(),\n",
    "            nn.Linear(16, 32),\n",
    "            nn.ReLU(),\n",
    "            nn.Linear(32, 2),            \n",
    "        )\n",
    "\n",
    "    def forward(self, x):\n",
    "        output = self.model(x)\n",
    "        return output"
   ]
  },
  {
   "cell_type": "code",
   "execution_count": 8,
   "metadata": {},
   "outputs": [],
   "source": [
    "generator = Generator()"
   ]
  },
  {
   "cell_type": "code",
   "execution_count": 9,
   "metadata": {},
   "outputs": [],
   "source": [
    "lr = 0.001\n",
    "num_epochs = 300\n",
    "loss_function = nn.BCELoss()"
   ]
  },
  {
   "cell_type": "code",
   "execution_count": 10,
   "metadata": {},
   "outputs": [],
   "source": [
    "optimizer_discriminator = torch.optim.Adam(discriminator.parameters(), lr=lr)\n",
    "optimizer_generator = torch.optim.Adam(generator.parameters(), lr=lr)"
   ]
  },
  {
   "cell_type": "code",
   "execution_count": 11,
   "metadata": {},
   "outputs": [
    {
     "name": "stdout",
     "output_type": "stream",
     "text": [
      "Epoch: 0 Loss D.: 0.15659493207931519\n",
      "Epoch: 0 Loss G.: 2.1254444122314453\n",
      "Epoch: 10 Loss D.: 0.7301512360572815\n",
      "Epoch: 10 Loss G.: 0.8579633831977844\n",
      "Epoch: 20 Loss D.: 0.5785328149795532\n",
      "Epoch: 20 Loss G.: 1.1377500295639038\n",
      "Epoch: 30 Loss D.: 0.5292066931724548\n",
      "Epoch: 30 Loss G.: 0.9324854612350464\n",
      "Epoch: 40 Loss D.: 0.556646466255188\n",
      "Epoch: 40 Loss G.: 1.3090686798095703\n",
      "Epoch: 50 Loss D.: 0.6381474137306213\n",
      "Epoch: 50 Loss G.: 0.8023393154144287\n",
      "Epoch: 60 Loss D.: 0.6970432996749878\n",
      "Epoch: 60 Loss G.: 0.9768204689025879\n",
      "Epoch: 70 Loss D.: 0.6872957944869995\n",
      "Epoch: 70 Loss G.: 0.724837601184845\n",
      "Epoch: 80 Loss D.: 0.6961745619773865\n",
      "Epoch: 80 Loss G.: 0.6965551972389221\n",
      "Epoch: 90 Loss D.: 0.6565706729888916\n",
      "Epoch: 90 Loss G.: 0.7405868768692017\n",
      "Epoch: 100 Loss D.: 0.6891248226165771\n",
      "Epoch: 100 Loss G.: 0.673545241355896\n",
      "Epoch: 110 Loss D.: 0.7303348183631897\n",
      "Epoch: 110 Loss G.: 0.7390904426574707\n",
      "Epoch: 120 Loss D.: 0.6602007746696472\n",
      "Epoch: 120 Loss G.: 0.6920892000198364\n",
      "Epoch: 130 Loss D.: 0.6240223050117493\n",
      "Epoch: 130 Loss G.: 0.9594902396202087\n",
      "Epoch: 140 Loss D.: 0.6540847420692444\n",
      "Epoch: 140 Loss G.: 0.8445334434509277\n",
      "Epoch: 150 Loss D.: 0.6355484127998352\n",
      "Epoch: 150 Loss G.: 0.8783406615257263\n",
      "Epoch: 160 Loss D.: 0.6373603940010071\n",
      "Epoch: 160 Loss G.: 0.7011091113090515\n",
      "Epoch: 170 Loss D.: 0.751835286617279\n",
      "Epoch: 170 Loss G.: 0.7312784194946289\n",
      "Epoch: 180 Loss D.: 0.7886459827423096\n",
      "Epoch: 180 Loss G.: 0.7205455303192139\n",
      "Epoch: 190 Loss D.: 0.6501650810241699\n",
      "Epoch: 190 Loss G.: 0.828478217124939\n",
      "Epoch: 200 Loss D.: 0.6514203548431396\n",
      "Epoch: 200 Loss G.: 0.7677773833274841\n",
      "Epoch: 210 Loss D.: 0.6556313633918762\n",
      "Epoch: 210 Loss G.: 0.8914292454719543\n",
      "Epoch: 220 Loss D.: 0.6817219257354736\n",
      "Epoch: 220 Loss G.: 0.7756744027137756\n",
      "Epoch: 230 Loss D.: 0.6359787583351135\n",
      "Epoch: 230 Loss G.: 0.8084630966186523\n",
      "Epoch: 240 Loss D.: 0.6704299449920654\n",
      "Epoch: 240 Loss G.: 0.692445695400238\n",
      "Epoch: 250 Loss D.: 0.6926674246788025\n",
      "Epoch: 250 Loss G.: 0.6800427436828613\n",
      "Epoch: 260 Loss D.: 0.7268811464309692\n",
      "Epoch: 260 Loss G.: 0.6980848908424377\n",
      "Epoch: 270 Loss D.: 0.6373175978660583\n",
      "Epoch: 270 Loss G.: 0.7733265161514282\n",
      "Epoch: 280 Loss D.: 0.7137936949729919\n",
      "Epoch: 280 Loss G.: 0.7087084650993347\n",
      "Epoch: 290 Loss D.: 0.6652466654777527\n",
      "Epoch: 290 Loss G.: 0.8035922646522522\n"
     ]
    }
   ],
   "source": [
    "for epoch in range(num_epochs):\n",
    "    for n, (real_samples, _) in enumerate(train_loader):\n",
    "        # Data for training the discriminator\n",
    "        real_samples_labels = torch.ones((batch_size, 1))\n",
    "        latent_space_samples = torch.randn((batch_size, 2))\n",
    "        generated_samples = generator(latent_space_samples)\n",
    "        generated_samples_labels = torch.zeros((batch_size, 1))\n",
    "        all_samples = torch.cat((real_samples, generated_samples))\n",
    "        all_samples_labels = torch.cat(\n",
    "            (real_samples_labels, generated_samples_labels))\n",
    "\n",
    "        # Training the discriminator\n",
    "        discriminator.zero_grad()\n",
    "        output_discriminator = discriminator(all_samples)\n",
    "        loss_discriminator = loss_function(\n",
    "            output_discriminator, all_samples_labels)\n",
    "        loss_discriminator.backward()\n",
    "        optimizer_discriminator.step()\n",
    "\n",
    "        # Data for training the generator\n",
    "        latent_space_samples = torch.randn((batch_size, 2))\n",
    "\n",
    "        # Training the generator\n",
    "        generator.zero_grad()\n",
    "        generated_samples = generator(latent_space_samples)\n",
    "        output_discriminator_generated = discriminator(generated_samples)\n",
    "        loss_generator = loss_function(\n",
    "            output_discriminator_generated, real_samples_labels)\n",
    "        loss_generator.backward()\n",
    "        optimizer_generator.step()\n",
    "\n",
    "        # Show loss\n",
    "        if epoch % 10 == 0 and n == batch_size - 1:\n",
    "            print(f\"Epoch: {epoch} Loss D.: {loss_discriminator}\")\n",
    "            print(f\"Epoch: {epoch} Loss G.: {loss_generator}\")      \n"
   ]
  },
  {
   "cell_type": "code",
   "execution_count": 12,
   "metadata": {},
   "outputs": [],
   "source": [
    "latent_space_samples = torch.randn(100, 2)\n",
    "generated_samples = generator(latent_space_samples)"
   ]
  },
  {
   "cell_type": "code",
   "execution_count": 13,
   "metadata": {
    "scrolled": true
   },
   "outputs": [
    {
     "data": {
      "text/plain": [
       "[<matplotlib.lines.Line2D at 0x7fd0faf03c88>]"
      ]
     },
     "execution_count": 13,
     "metadata": {},
     "output_type": "execute_result"
    },
    {
     "data": {
      "image/png": "[encoded data removed]",
      "text/plain": [
       "<Figure size 432x288 with 1 Axes>"
      ]
     },
     "metadata": {
      "needs_background": "light"
     },
     "output_type": "display_data"
    }
   ],
   "source": [
    "generated_samples = generated_samples.detach()\n",
    "plt.plot(generated_samples[:,0], generated_samples[:,1], '.')"
   ]
  }
 ],
 "metadata": {
  "kernelspec": {
   "display_name": "miniconda",
   "language": "python",
   "name": "miniconda"
  },
  "language_info": {
   "codemirror_mode": {
    "name": "ipython",
    "version": 3
   },
   "file_extension": ".py",
   "mimetype": "text/x-python",
   "name": "python",
   "nbconvert_exporter": "python",
   "pygments_lexer": "ipython3",
   "version": "3.6.3"
  }
 },
 "nbformat": 4,
 "nbformat_minor": 4
}
